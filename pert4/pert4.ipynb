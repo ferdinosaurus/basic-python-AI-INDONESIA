{
 "cells": [
  {
   "cell_type": "code",
   "execution_count": 1,
   "metadata": {},
   "outputs": [
    {
     "name": "stdout",
     "output_type": "stream",
     "text": [
      "pert4\n"
     ]
    }
   ],
   "source": [
    "print(\"pert4\")"
   ]
  },
  {
   "cell_type": "code",
   "execution_count": 8,
   "metadata": {},
   "outputs": [
    {
     "name": "stdout",
     "output_type": "stream",
     "text": [
      "input jam masuk : 11\n",
      "anda terlambat, jangan diulangi lagi\n"
     ]
    }
   ],
   "source": [
    "#kondisi and\n",
    "masuk = 8\n",
    "max = 11\n",
    "inputJamMasuk = int(input(\"input jam masuk : \"))\n",
    "\n",
    "while(inputJamMasuk<masuk):\n",
    "    print(\"anda terlalu cepat datang\")\n",
    "    break\n",
    "\n",
    "while(inputJamMasuk==masuk):\n",
    "    print(\"anda datang tepat waktu\")\n",
    "    break\n",
    "\n",
    "while(inputJamMasuk>masuk and inputJamMasuk<=max):\n",
    "    print(\"anda terlambat, jangan diulangi lagi\")\n",
    "    break"
   ]
  },
  {
   "cell_type": "code",
   "execution_count": 9,
   "metadata": {},
   "outputs": [
    {
     "name": "stdout",
     "output_type": "stream",
     "text": [
      "False\n"
     ]
    }
   ],
   "source": [
    "a=11\n",
    "b=23\n",
    "c=99\n",
    "print(a<b and c<b)"
   ]
  },
  {
   "cell_type": "code",
   "execution_count": 11,
   "metadata": {},
   "outputs": [
    {
     "name": "stdout",
     "output_type": "stream",
     "text": [
      "True\n"
     ]
    }
   ],
   "source": [
    "print(a<b or c<b)"
   ]
  },
  {
   "cell_type": "code",
   "execution_count": 14,
   "metadata": {
    "scrolled": true
   },
   "outputs": [
    {
     "name": "stdout",
     "output_type": "stream",
     "text": [
      "masukkan sandi kamu : asd\n",
      "gagal login\n"
     ]
    }
   ],
   "source": [
    "sandi = \"halo123\"\n",
    "input_pw = input(\"masukkan sandi kamu : \")\n",
    "while (input_pw == sandi):\n",
    "    print(\"berhasil login\")\n",
    "    break\n",
    "\n",
    "while(input_pw != sandi):\n",
    "    print(\"gagal login\")\n",
    "    break"
   ]
  },
  {
   "cell_type": "code",
   "execution_count": 47,
   "metadata": {},
   "outputs": [
    {
     "name": "stdout",
     "output_type": "stream",
     "text": [
      "84\n",
      "nilai rand range : 0\n"
     ]
    }
   ],
   "source": [
    "import random\n",
    "\n",
    "nilaiRandom = random.randint(6,100,)\n",
    "print(nilaiRandom)\n",
    "\n",
    "nilaiRandRange = random.randrange(0,10,2)\n",
    "print(\"nilai rand range : {}\".format(nilaiRandRange))"
   ]
  },
  {
   "cell_type": "code",
   "execution_count": 59,
   "metadata": {},
   "outputs": [
    {
     "name": "stdout",
     "output_type": "stream",
     "text": [
      "<class 'list'>\n",
      "['Jakarta', 'Tangerang', 'Surabaya']\n",
      "['Jakarta', 'Tangerang']\n",
      "Surabaya\n",
      "['Jakarta', 'Tangerang', 'Surabaya', 'Denpasar']\n",
      "['Jakarta', 'Surabaya', 'Denpasar']\n",
      "3\n",
      "saya ingin ke Jakarta\n",
      "saya ingin ke Surabaya\n",
      "saya ingin ke Denpasar\n",
      "['Jakarta', 'Bandung', 'Denpasar']\n"
     ]
    }
   ],
   "source": [
    "myList = ['Jakarta','Tangerang','Surabaya']\n",
    "print(type(myList))\n",
    "print(myList)\n",
    "print(myList[0:2])\n",
    "print(myList[-1])\n",
    "\n",
    "myList.append('Denpasar')\n",
    "print(myList)\n",
    "#menghapus elemetn di dalam list\n",
    "del myList[1]\n",
    "print(myList)\n",
    "print(len(myList))\n",
    "\n",
    "#looping list\n",
    "for c in myList:\n",
    "    print(\"saya ingin ke {}\".format(c))\n",
    "\n",
    "#menghapus data\n",
    "myList[1] = \"Bandung\"\n",
    "print(myList)\n",
    "\n"
   ]
  },
  {
   "cell_type": "code",
   "execution_count": 77,
   "metadata": {},
   "outputs": [
    {
     "name": "stdout",
     "output_type": "stream",
     "text": [
      "<class 'dict'>\n",
      "{'nama': 'Rina', 'kelas': '1', 'alamat': 'Jogja'}\n",
      "Rina\n",
      "{'nama': 'Rina', 'kelas': '1', 'alamat': 'Jogja', 'tinggi': 120}\n",
      "{'nama': 'Rina', 'kelas': '1', 'alamat': 'Jogja', 'tinggi': 160}\n",
      "loop bio\n",
      "nama : Rina\n",
      "kelas : 1\n",
      "alamat : Jogja\n",
      "tinggi : 160\n",
      "{1: {'Nama': 'Rina', 'umur': 12, 'alamat': 'jogja', 'pekerjaan': 'Siswa SD'}, 2: {'Nama': 'Umar', 'umur': 25, 'alamat': 'balikpapan', 'pekerjaan': 'Data science'}, 3: {'Nama': 'Asep', 'umur': 30, 'alamat': 'Jayapura', 'pekerjaan': 'penerjemah'}}\n",
      "Rina\n"
     ]
    }
   ],
   "source": [
    "bio = {'nama' : 'Rina', 'kelas' : '1','alamat' : 'Jogja'}\n",
    "print(type(bio))\n",
    "print(bio)\n",
    "\n",
    "print(bio['nama'])\n",
    "\n",
    "bio['tinggi'] = 120\n",
    "print(bio)\n",
    "bio['tinggi'] = 160\n",
    "print(bio)\n",
    "\n",
    "print(\"loop bio\")\n",
    "for key,value in bio.items():\n",
    "    print(\"{} : {}\".format(key,value))\n",
    "users = {\n",
    "    1:{\n",
    "        'Nama':'Rina',\n",
    "        'umur' : 12,\n",
    "        'alamat' : 'jogja',\n",
    "        'pekerjaan' : 'Siswa SD'\n",
    "    },\n",
    "    2:{\n",
    "        'Nama':'Umar',\n",
    "        'umur' : 25,\n",
    "        'alamat' : 'balikpapan',\n",
    "        'pekerjaan' : 'Data science'\n",
    "    },\n",
    "    3:{\n",
    "        'Nama':'Asep',\n",
    "        'umur' : 30,\n",
    "        'alamat' : 'Jayapura',\n",
    "        'pekerjaan' : 'penerjemah'\n",
    "    }\n",
    "}\n",
    "\n",
    "print(users)\n",
    "print(users[1]['Nama'])\n",
    "#print(\"looping\")\n",
    "# for key,value in bio.items():\n",
    "#     print(key,value,sep=' : ')\n",
    "#     for key2 in value:\n",
    "#         print(key2,value[key2],sep = ' : ')\n",
    "    \n"
   ]
  },
  {
   "cell_type": "code",
   "execution_count": 83,
   "metadata": {},
   "outputs": [
    {
     "name": "stdout",
     "output_type": "stream",
     "text": [
      "nama : Apel\n",
      "harga : Lumayan\n",
      "ketersediaan : Banyak\n",
      "nama : Rina\n",
      "umur : 13\n"
     ]
    }
   ],
   "source": [
    "def myFunc(**fruits):\n",
    "    for e,v in fruits.items():\n",
    "        print(e,v, sep = \" : \")\n",
    "\n",
    "keyword = {'nama' : 'Rina','umur': 13}\n",
    "myFunc(nama = 'Apel', harga = 'Lumayan',ketersediaan = 'Banyak')\n",
    "myFunc(**keyword)\n"
   ]
  },
  {
   "cell_type": "code",
   "execution_count": 87,
   "metadata": {},
   "outputs": [
    {
     "name": "stdout",
     "output_type": "stream",
     "text": [
      "<class 'tuple'>\n",
      "('borobudur', 'piramid', 'kuta')\n"
     ]
    }
   ],
   "source": [
    "myTup = (\"borobudur\",\"piramid\",\"kuta\")\n",
    "print(type(myTup))\n",
    "print(myTup)"
   ]
  },
  {
   "cell_type": "code",
   "execution_count": 90,
   "metadata": {},
   "outputs": [
    {
     "name": "stdout",
     "output_type": "stream",
     "text": [
      "('halo', 'selamat pagi', 'siang', 'malam')\n"
     ]
    }
   ],
   "source": [
    "def yourFunc(*ucapan):\n",
    "    print(ucapan[0])\n",
    "\n",
    "yourFunc(('halo','selamat pagi','siang','malam'))"
   ]
  },
  {
   "cell_type": "code",
   "execution_count": 101,
   "metadata": {},
   "outputs": [
    {
     "name": "stdout",
     "output_type": "stream",
     "text": [
      "<class 'set'>\n",
      "{'Bangkok', 'Kuala lumpur'}\n",
      "{'hai', 'Kuala lumpur'}\n",
      "{8, 2, 4, 6}\n"
     ]
    }
   ],
   "source": [
    "mySet = {'Bangkok','Kuala lumpur'}\n",
    "print(type(mySet))\n",
    "print(mySet)\n",
    "mySet.add(\"hai\")\n",
    "mySet.remove(\"Bangkok\")\n",
    "print(mySet)\n",
    "\n",
    "myNum = {1,2,3,4,5,6,7,8,9}\n",
    "myNum2 = {2,4,6,8}\n",
    "\n",
    "print(myNum&myNum2)"
   ]
  },
  {
   "cell_type": "code",
   "execution_count": 125,
   "metadata": {},
   "outputs": [
    {
     "name": "stdout",
     "output_type": "stream",
     "text": [
      "2021-01-17\n",
      "2021-01-17\n",
      "2021-01-17 14:41:58.597677\n",
      "sekarang adalah Tahun 2021\n"
     ]
    }
   ],
   "source": [
    "from datetime import date\n",
    "from datetime import datetime\n",
    "\n",
    "\n",
    "now = date.today()\n",
    "print(now)\n",
    "\n",
    "sekarang = date.today()\n",
    "print(sekarang)\n",
    "\n",
    "time = datetime.now()\n",
    "print(time)\n",
    "print(time.strftime(\"sekarang adalah Tahun %Y\"))"
   ]
  }
 ],
 "metadata": {
  "kernelspec": {
   "display_name": "Python 3",
   "language": "python",
   "name": "python3"
  },
  "language_info": {
   "codemirror_mode": {
    "name": "ipython",
    "version": 3
   },
   "file_extension": ".py",
   "mimetype": "text/x-python",
   "name": "python",
   "nbconvert_exporter": "python",
   "pygments_lexer": "ipython3",
   "version": "3.9.1"
  }
 },
 "nbformat": 4,
 "nbformat_minor": 4
}
