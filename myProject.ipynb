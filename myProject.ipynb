{
 "cells": [
  {
   "cell_type": "code",
   "execution_count": 1,
   "metadata": {},
   "outputs": [
    {
     "name": "stdout",
     "output_type": "stream",
     "text": [
      "Hello World\n"
     ]
    }
   ],
   "source": [
    "#first Program\n",
    "print(\"Hello World\")"
   ]
  },
  {
   "cell_type": "code",
   "execution_count": 2,
   "metadata": {},
   "outputs": [],
   "source": [
    "# komentar di Python"
   ]
  },
  {
   "cell_type": "code",
   "execution_count": 8,
   "metadata": {},
   "outputs": [],
   "source": [
    "sapa = \"Selamat Pagi\"\n",
    "sapa1 = \"Selamat Siang\"\n",
    "sapa_dua= \"Selamat Sore\""
   ]
  },
  {
   "cell_type": "code",
   "execution_count": 10,
   "metadata": {},
   "outputs": [
    {
     "name": "stdout",
     "output_type": "stream",
     "text": [
      "Selamat Pagi,Selamat Siang,Selamat Sore\n"
     ]
    }
   ],
   "source": [
    "print(sapa,sapa1,sapa_dua,sep = ',')"
   ]
  },
  {
   "cell_type": "code",
   "execution_count": 5,
   "metadata": {},
   "outputs": [
    {
     "name": "stdout",
     "output_type": "stream",
     "text": [
      "Selamat pagi\n"
     ]
    }
   ],
   "source": [
    "print(sapa_satu)"
   ]
  },
  {
   "cell_type": "code",
   "execution_count": 12,
   "metadata": {},
   "outputs": [
    {
     "name": "stdout",
     "output_type": "stream",
     "text": [
      "ayok belajar AI\n",
      "<class 'str'>\n"
     ]
    }
   ],
   "source": [
    "var_string = \"ayok belajar AI\"\n",
    "print(var_string)\n",
    "print(type(var_string))"
   ]
  },
  {
   "cell_type": "code",
   "execution_count": 13,
   "metadata": {},
   "outputs": [
    {
     "name": "stdout",
     "output_type": "stream",
     "text": [
      "99\n",
      "<class 'int'>\n"
     ]
    }
   ],
   "source": [
    "var_integer = 99\n",
    "print(var_integer)\n",
    "print(type(var_integer))"
   ]
  },
  {
   "cell_type": "code",
   "execution_count": 14,
   "metadata": {},
   "outputs": [
    {
     "name": "stdout",
     "output_type": "stream",
     "text": [
      "99.99\n",
      "<class 'float'>\n"
     ]
    }
   ],
   "source": [
    "var_float = 12.34\n",
    "print(var_float)\n",
    "print(type(var_float))"
   ]
  },
  {
   "cell_type": "code",
   "execution_count": 17,
   "metadata": {},
   "outputs": [
    {
     "name": "stdout",
     "output_type": "stream",
     "text": [
      "ayok belajar AI,99,99.99\n"
     ]
    }
   ],
   "source": [
    "print(var_string,var_integer,var_float,sep=',')"
   ]
  },
  {
   "cell_type": "code",
   "execution_count": 25,
   "metadata": {},
   "outputs": [
    {
     "name": "stdout",
     "output_type": "stream",
     "text": [
      "nilainya true\n"
     ]
    }
   ],
   "source": [
    "var_boolean = True\n",
    "if var_boolean:\n",
    "    print(\"nilainya true\")\n",
    "        "
   ]
  },
  {
   "cell_type": "code",
   "execution_count": 27,
   "metadata": {},
   "outputs": [
    {
     "name": "stdout",
     "output_type": "stream",
     "text": [
      "10.5\n"
     ]
    }
   ],
   "source": [
    "tambah = 5+5.5\n",
    "print(tambah)"
   ]
  },
  {
   "cell_type": "code",
   "execution_count": 30,
   "metadata": {},
   "outputs": [
    {
     "name": "stdout",
     "output_type": "stream",
     "text": [
      "helo,World\n"
     ]
    }
   ],
   "source": [
    "var1 = \"helo\"\n",
    "var2 = \"World\"\n",
    "print(var1+','+var2)"
   ]
  },
  {
   "cell_type": "code",
   "execution_count": 31,
   "metadata": {},
   "outputs": [
    {
     "name": "stdout",
     "output_type": "stream",
     "text": [
      "22\n"
     ]
    }
   ],
   "source": [
    "kurang1= 99\n",
    "kurang2=77\n",
    "kurang3=kurang1-kurang2\n",
    "print(kurang3)"
   ]
  },
  {
   "cell_type": "code",
   "execution_count": 32,
   "metadata": {},
   "outputs": [
    {
     "name": "stdout",
     "output_type": "stream",
     "text": [
      "2200\n"
     ]
    }
   ],
   "source": [
    "kali1 = 55\n",
    "kali2 = 40\n",
    "kali3 = kali1*kali2\n",
    "print(kali3)"
   ]
  },
  {
   "cell_type": "code",
   "execution_count": 33,
   "metadata": {},
   "outputs": [
    {
     "name": "stdout",
     "output_type": "stream",
     "text": [
      "10\n"
     ]
    }
   ],
   "source": [
    "bagi1=50\n",
    "bagi2 = 5\n",
    "bagi3 = bagi1/bagi2\n",
    "print(int(bagi3))"
   ]
  },
  {
   "cell_type": "code",
   "execution_count": 34,
   "metadata": {},
   "outputs": [
    {
     "name": "stdout",
     "output_type": "stream",
     "text": [
      "2\n"
     ]
    }
   ],
   "source": [
    "modul1=50\n",
    "modul2=3\n",
    "modul3 = modul1%modul2\n",
    "print(modul3)"
   ]
  },
  {
   "cell_type": "code",
   "execution_count": 38,
   "metadata": {},
   "outputs": [
    {
     "name": "stdout",
     "output_type": "stream",
     "text": [
      "habis dibagi 2\n"
     ]
    }
   ],
   "source": [
    "if modul1%2==0:\n",
    "    print(\"habis dibagi 2\")"
   ]
  },
  {
   "cell_type": "code",
   "execution_count": 41,
   "metadata": {},
   "outputs": [
    {
     "name": "stdout",
     "output_type": "stream",
     "text": [
      "32239467607127560459801123022537853733387128786128121429411493357969924496435885172957706132331146217900653817102056284520489\n"
     ]
    }
   ],
   "source": [
    "expo1= 77\n",
    "expo2 =66\n",
    "expo3 = expo1**expo2\n",
    "print(expo3)"
   ]
  },
  {
   "cell_type": "code",
   "execution_count": 43,
   "metadata": {},
   "outputs": [
    {
     "name": "stdout",
     "output_type": "stream",
     "text": [
      "17.666666666666668\n"
     ]
    }
   ],
   "source": [
    "int_div=53/3\n",
    "print(int_div)"
   ]
  },
  {
   "cell_type": "code",
   "execution_count": 46,
   "metadata": {},
   "outputs": [
    {
     "name": "stdout",
     "output_type": "stream",
     "text": [
      "1\n"
     ]
    }
   ],
   "source": [
    "#variable penugasan\n",
    "satu = \"test\"\n",
    "satu =1\n",
    "print(satu)"
   ]
  },
  {
   "cell_type": "code",
   "execution_count": 48,
   "metadata": {},
   "outputs": [
    {
     "name": "stdout",
     "output_type": "stream",
     "text": [
      "6\n"
     ]
    }
   ],
   "source": [
    "angka = 3\n",
    "angka+=3\n",
    "print(angka)"
   ]
  },
  {
   "cell_type": "code",
   "execution_count": 53,
   "metadata": {},
   "outputs": [
    {
     "name": "stdout",
     "output_type": "stream",
     "text": [
      "Learning Machine\n",
      "Machine Learning\n",
      "1\n",
      "2\n",
      "3\n",
      "4\n",
      "5\n",
      "6\n",
      "7\n",
      "8\n",
      "9\n"
     ]
    }
   ],
   "source": [
    "local = \"Machine Learning\"\n",
    "def scope():\n",
    "    local = \"Learning Machine\"\n",
    "    print(local)\n",
    "scope()\n",
    "print(local)\n",
    "\n",
    "for i in range(1,10):\n",
    "    print(i)\n"
   ]
  },
  {
   "cell_type": "code",
   "execution_count": 54,
   "metadata": {},
   "outputs": [
    {
     "name": "stdout",
     "output_type": "stream",
     "text": [
      "4\n"
     ]
    }
   ],
   "source": [
    "comp = 1+3\n",
    "print(comp)"
   ]
  },
  {
   "cell_type": "code",
   "execution_count": 55,
   "metadata": {},
   "outputs": [
    {
     "name": "stdout",
     "output_type": "stream",
     "text": [
      "nilainya false\n"
     ]
    }
   ],
   "source": [
    "fal_se = 0\n",
    "if fal_se:\n",
    "    print(\"nilainya true\")\n",
    "else :\n",
    "    print(\"nilainya false\")"
   ]
  },
  {
   "cell_type": "code",
   "execution_count": null,
   "metadata": {},
   "outputs": [],
   "source": []
  },
  {
   "cell_type": "code",
   "execution_count": 57,
   "metadata": {},
   "outputs": [
    {
     "name": "stdout",
     "output_type": "stream",
     "text": [
      "5 kecil dari 6\n"
     ]
    }
   ],
   "source": [
    "if 5<6 :\n",
    "    print(\"5 kecil dari 6\")"
   ]
  },
  {
   "cell_type": "code",
   "execution_count": 58,
   "metadata": {},
   "outputs": [
    {
     "name": "stdout",
     "output_type": "stream",
     "text": [
      "tidak sama\n"
     ]
    }
   ],
   "source": [
    "num = 5\n",
    "num2 = 8\n",
    "if num == num2:\n",
    "    print(\"sama\")\n",
    "else :\n",
    "    print(\"tidak sama\")"
   ]
  },
  {
   "cell_type": "code",
   "execution_count": 60,
   "metadata": {},
   "outputs": [
    {
     "name": "stdout",
     "output_type": "stream",
     "text": [
      "tidak sama\n"
     ]
    }
   ],
   "source": [
    "if 2!=0 :\n",
    "    print(\"tidak sama\")"
   ]
  },
  {
   "cell_type": "code",
   "execution_count": 62,
   "metadata": {},
   "outputs": [
    {
     "name": "stdout",
     "output_type": "stream",
     "text": [
      "helo\n"
     ]
    }
   ],
   "source": [
    "greeting =  ' helo '\n",
    "print(greeting.strip())"
   ]
  },
  {
   "cell_type": "code",
   "execution_count": 63,
   "metadata": {},
   "outputs": [
    {
     "name": "stdout",
     "output_type": "stream",
     "text": [
      "Ayo belajar Artificial Intellegent\n"
     ]
    }
   ],
   "source": [
    "tagline = 'Ayo belajar AI'\n",
    "print(tagline.replace('AI','Artificial Intellegent'))"
   ]
  },
  {
   "cell_type": "code",
   "execution_count": null,
   "metadata": {},
   "outputs": [],
   "source": []
  }
 ],
 "metadata": {
  "kernelspec": {
   "display_name": "Python 3",
   "language": "python",
   "name": "python3"
  },
  "language_info": {
   "codemirror_mode": {
    "name": "ipython",
    "version": 3
   },
   "file_extension": ".py",
   "mimetype": "text/x-python",
   "name": "python",
   "nbconvert_exporter": "python",
   "pygments_lexer": "ipython3",
   "version": "3.9.1"
  }
 },
 "nbformat": 4,
 "nbformat_minor": 4
}
