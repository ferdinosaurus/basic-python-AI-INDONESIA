{
 "cells": [
  {
   "cell_type": "code",
   "execution_count": 11,
   "metadata": {},
   "outputs": [
    {
     "name": "stdout",
     "output_type": "stream",
     "text": [
      "50\n",
      "78.57142857142857\n",
      "5\n",
      "hallo nama ku Nafi\n",
      "nama kamu siapa ? \n",
      "Salam kenal dodit\n",
      "senang bertemu dengan mu\n"
     ]
    }
   ],
   "source": [
    "class Myclass:\n",
    "    x = 5\n",
    "    y = 10\n",
    "    luas_persegi =x*y\n",
    "    luas_lingkaran = 22/7*x*x\n",
    "\n",
    "def myclassses():\n",
    "    x = 5\n",
    "    return x\n",
    "\n",
    "p1 = Myclass()\n",
    "p2 = Myclass()\n",
    "print(p1.luas_persegi)\n",
    "print(p2.luas_lingkaran)\n",
    "p2 = myclassses()\n",
    "print(myclassses())\n",
    "\n",
    "# __init__()\n",
    "\n",
    "class Person:\n",
    "    def __init__(self,name,age,nama_lawan):\n",
    "        self.name = name\n",
    "        self.age = age\n",
    "        self.nama_lawan = nama_lawan\n",
    "        \n",
    "    def sapa(self):\n",
    "        print(\"hallo nama ku {}\".format(self.name))\n",
    "        print(\"nama kamu siapa ? \")\n",
    "    \n",
    "    def salam_kenal(self):\n",
    "        print(\"Salam kenal {}\".format(self.nama_lawan))\n",
    "        print(\"senang bertemu dengan mu\")\n",
    "        \n",
    "\n",
    "p1 = Person(\"Nafi\",22,\"dodit\")\n",
    "p1.sapa()\n",
    "p1.salam_kenal()\n"
   ]
  }
 ],
 "metadata": {
  "kernelspec": {
   "display_name": "Python 3",
   "language": "python",
   "name": "python3"
  },
  "language_info": {
   "codemirror_mode": {
    "name": "ipython",
    "version": 3
   },
   "file_extension": ".py",
   "mimetype": "text/x-python",
   "name": "python",
   "nbconvert_exporter": "python",
   "pygments_lexer": "ipython3",
   "version": "3.9.1"
  }
 },
 "nbformat": 4,
 "nbformat_minor": 4
}
