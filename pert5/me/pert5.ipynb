{
 "cells": [
  {
   "cell_type": "code",
   "execution_count": 1,
   "metadata": {},
   "outputs": [
    {
     "name": "stdout",
     "output_type": "stream",
     "text": [
      "hello world\n"
     ]
    }
   ],
   "source": [
    "print(\"hello world\")"
   ]
  },
  {
   "cell_type": "code",
   "execution_count": 5,
   "metadata": {},
   "outputs": [],
   "source": [
    "f = open(\"belajar.txt\",\"w+\")\n",
    "f.write(\"baris pertama\\n\")\n",
    "f.write(\"baris kedua\")\n",
    "f.close()"
   ]
  },
  {
   "cell_type": "code",
   "execution_count": 7,
   "metadata": {},
   "outputs": [],
   "source": [
    "append = open(\"belajar.txt\",'a')\n",
    "append.write(\"baris ke dua\")\n",
    "append.close()"
   ]
  },
  {
   "cell_type": "code",
   "execution_count": 8,
   "metadata": {},
   "outputs": [
    {
     "name": "stdout",
     "output_type": "stream",
     "text": [
      "baris pertama\n",
      "baris keduabaris ke duabaris ke dua\n"
     ]
    }
   ],
   "source": [
    "read = open(\"belajar.txt\",'r').read()\n",
    "print(read)\n",
    "read.close()"
   ]
  },
  {
   "cell_type": "code",
   "execution_count": 10,
   "metadata": {},
   "outputs": [
    {
     "name": "stdout",
     "output_type": "stream",
     "text": [
      "baris pertama\n",
      "baris keduabaris ke duabaris ke dua\n"
     ]
    }
   ],
   "source": [
    "fread = open(\"belajar.txt\",'r')\n",
    "if fread.mode =='r':\n",
    "    print(fread.read())\n",
    "fread.close()"
   ]
  },
  {
   "cell_type": "code",
   "execution_count": 13,
   "metadata": {},
   "outputs": [],
   "source": [
    "f = open(\"list.txt\",\"w+\")\n",
    "for i in range(10):\n",
    "    f.write(\"ini isinya data ke {} \\n\".format(i))\n",
    "f.close()"
   ]
  },
  {
   "cell_type": "code",
   "execution_count": 15,
   "metadata": {},
   "outputs": [
    {
     "name": "stdout",
     "output_type": "stream",
     "text": [
      "['ini isinya data ke 0 \\n', 'ini isinya data ke 1 \\n', 'ini isinya data ke 2 \\n', 'ini isinya data ke 3 \\n', 'ini isinya data ke 4 \\n', 'ini isinya data ke 5 \\n', 'ini isinya data ke 6 \\n', 'ini isinya data ke 7 \\n', 'ini isinya data ke 8 \\n', 'ini isinya data ke 9 \\n']\n"
     ]
    }
   ],
   "source": [
    "fr = open(\"list.txt\",'r')\n",
    "fetch =fr.readlines()\n",
    "\n"
   ]
  },
  {
   "cell_type": "code",
   "execution_count": 34,
   "metadata": {},
   "outputs": [
    {
     "name": "stdout",
     "output_type": "stream",
     "text": [
      "C:\\Users\\ferdi\\pert5\\new\n",
      "\n",
      "\n",
      "\n",
      "[]\n",
      "<class 'list'>\n",
      "C:\\Users\\ferdi\\pert5\n"
     ]
    }
   ],
   "source": [
    "import os\n",
    "#mendapatkan directory os\n",
    "print(os.getcwd())\n",
    "\n",
    "#mengubah directory\n",
    "#cdir = os chdir('../')\n",
    "\n",
    "print(\"\\n\\n\")\n",
    "\n",
    "ls = os.listdir()\n",
    "print(ls)\n",
    "print(type(ls))\n",
    "\n",
    "for i in ls:\n",
    "    print(i,end =\"\\n\")\n",
    "\n",
    "# membuat directory baru\n",
    "#os.mkdir(\"new\")\n",
    "\n",
    "#rename folder\n",
    "#os.rename(\"new\",\"baru\")\n",
    "\n",
    "# f = open(\"junk.txt\",\"w+\")\n",
    "# f.close()\n",
    "\n",
    "# os.remove(\"junk.txt\")\n",
    "\n",
    "#remove non empty directory\n",
    "#os.mkdir('new')\n",
    "# os.chdir('./new')\n",
    "# print(os.getcwd())\n",
    "\n",
    "#f = open(\"/ew.txt\",'w+')\n",
    "#f.close()\n",
    "\n",
    "\n",
    "os.chdir('..')\n",
    "print(os.getcwd())\n",
    "\n"
   ]
  },
  {
   "cell_type": "code",
   "execution_count": 46,
   "metadata": {},
   "outputs": [],
   "source": [
    "import os\n",
    "import datetime\n"
   ]
  },
  {
   "cell_type": "code",
   "execution_count": 68,
   "metadata": {
    "scrolled": true
   },
   "outputs": [
    {
     "name": "stdout",
     "output_type": "stream",
     "text": [
      "False\n",
      "True\n",
      "('C:\\\\Users\\\\ferdi\\\\pert5', 'list.txt')\n",
      "<class 'tuple'>\n",
      "C:\\Users\\ferdi\\pert5\n",
      "list.txt\n",
      "Sat Jan 23 13:34:53 2021\n",
      "2021-01-23 13:34:53.890741\n",
      "0:45:17.657732\n"
     ]
    }
   ],
   "source": [
    "import os\n",
    "import datetime\n",
    "import time\n",
    "\n",
    "print(os.path.isfile(\"directory.py\"))\n",
    "print(os.path.isdir(\"new\"))\n",
    "\n",
    "os.path.realpath(\"list.txt\")\n",
    "\n",
    "dir = os.path.split(os.path.realpath(\"list.txt\"))\n",
    "print(dir)\n",
    "print(type(dir))\n",
    "\n",
    "for i in dir :\n",
    "    print(i)\n",
    "\n",
    "t =time.ctime(os.path.getmtime('list.txt'))\n",
    "print(t)\n",
    "\n",
    "\n",
    "#get modification time\n",
    "check = time.ctime(os.path.getmtime('list.txt'))\n",
    "print(datetime.datetime.fromtimestamp(os.path.getmtime(\"list.txt\")))\n",
    "\n",
    "#kalkulasi sudah berapa lama\n",
    "td = datetime.datetime.now()- datetime.datetime.fromtimestamp(os.path.getmtime(\"list.txt\"))\n",
    "print(td)\n"
   ]
  },
  {
   "cell_type": "code",
   "execution_count": 82,
   "metadata": {},
   "outputs": [
    {
     "name": "stdout",
     "output_type": "stream",
     "text": [
      "ERROR : 1 tidak bisa di bagi dengan 0\n",
      "error atau tidak tetap di jalankan\n",
      "ada Error : not writable\n",
      "finally\n"
     ]
    }
   ],
   "source": [
    "a = \"hallo\"\n",
    "b = 1\n",
    "\n",
    "try:\n",
    "    #print(a+b)\n",
    "    print(1/0)\n",
    "except TypeError:\n",
    "    print(\"ERROR : perhatikan Type nya\")\n",
    "except ZeroDivisionError:\n",
    "    print(\"ERROR : 1 tidak bisa di bagi dengan 0\")\n",
    "\n",
    "else:\n",
    "    print(\"jika tidak ada error\")\n",
    "finally:\n",
    "    print(\"error atau tidak tetap di jalankan\")\n",
    "    \n",
    "\n",
    "try:\n",
    "    f = open(\"list.txt\",\"r\")\n",
    "    f.write(\"msi\")\n",
    "except Exception as e:\n",
    "    print(\"ada Error : {}\".format(e))\n",
    "else :\n",
    "    print(\"else\")\n",
    "finally:\n",
    "    print(\"finally\")\n"
   ]
  }
 ],
 "metadata": {
  "kernelspec": {
   "display_name": "Python 3",
   "language": "python",
   "name": "python3"
  },
  "language_info": {
   "codemirror_mode": {
    "name": "ipython",
    "version": 3
   },
   "file_extension": ".py",
   "mimetype": "text/x-python",
   "name": "python",
   "nbconvert_exporter": "python",
   "pygments_lexer": "ipython3",
   "version": "3.9.1"
  }
 },
 "nbformat": 4,
 "nbformat_minor": 4
}
